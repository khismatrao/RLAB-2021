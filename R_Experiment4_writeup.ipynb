{
  "nbformat": 4,
  "nbformat_minor": 0,
  "metadata": {
    "colab": {
      "name": "R_Experiment4_writeup.ipynb",
      "provenance": [],
      "collapsed_sections": [],
      "include_colab_link": true
    },
    "kernelspec": {
      "name": "ir",
      "display_name": "R"
    }
  },
  "cells": [
    {
      "cell_type": "markdown",
      "metadata": {
        "id": "view-in-github",
        "colab_type": "text"
      },
      "source": [
        "<a href=\"https://colab.research.google.com/github/khismatrao/RLAB-2021/blob/main/R_Experiment4_writeup.ipynb\" target=\"_parent\"><img src=\"https://colab.research.google.com/assets/colab-badge.svg\" alt=\"Open In Colab\"/></a>"
      ]
    },
    {
      "cell_type": "markdown",
      "metadata": {
        "id": "ID8ytqkhyQUI"
      },
      "source": [
        "**R Programming apply family of functions**\n",
        "\n",
        "In this experiment we will learn about how to use apply family of functions\n",
        "to do data wrangling and avaoid use of looping constructs \n",
        "\n",
        "The R base manual tells you that it’s called as follows: \n",
        "\n",
        "```\n",
        "apply(X, MARGIN, FUN, ...)\n",
        "```\n",
        "\n",
        "\n",
        "```X``` is an array or a matrix if the dimension of the array is ```2```\n",
        "\n",
        "```MARGIN``` is a variable defining how the function is applied: \n",
        " \n",
        "\n",
        "*   When ```MARGIN=1```, it applies over rows \n",
        "*   Whereas with ```MARGIN=2```, it works over columns\n",
        "*   ```MARGIN=c(1,2)```, it applies to both rows and columns;     \n",
        "\n",
        "and\n",
        "```FUN```, represents the function that you want to apply to the data. It can be any R function, including a User Defined Function (UDF)."
      ]
    },
    {
      "cell_type": "code",
      "metadata": {
        "id": "rlOEIqlfJf2P",
        "colab": {
          "base_uri": "https://localhost:8080/",
          "height": 182
        },
        "outputId": "911071d7-c9ef-4cf9-ee54-a88ba871911a"
      },
      "source": [
        "# Complete the following code by using apropriate apply family function\n",
        "# Construct a 5x6 matrix\n",
        "X <-matrix(rnorm(30), nrow=5, ncol=6)\n",
        "X\n",
        "# Sum the values of each column with apply()\n",
        "\n",
        "# Sum the values of each row with apply()\n"
      ],
      "execution_count": null,
      "outputs": [
        {
          "output_type": "display_data",
          "data": {
            "text/plain": [
              "     [,1]       [,2]       [,3]        [,4]       [,5]      [,6]      \n",
              "[1,]  0.6794230  1.0518425  0.12945970  2.3766246 0.8652372  0.4034514\n",
              "[2,] -1.1469032 -1.0618102 -0.04939965  0.5597176 0.7240734  0.7365953\n",
              "[3,] -1.7573895  0.1779995 -0.25218026  0.5576039 0.4537757  0.2346197\n",
              "[4,] -0.6843666  0.2299046  1.14956594  0.1813669 0.5359531 -0.5797062\n",
              "[5,] -0.4744851  0.8150594 -0.79211723 -1.3051058 0.8200654 -0.1618692"
            ],
            "text/latex": "A matrix: 5 × 6 of type dbl\n\\begin{tabular}{llllll}\n\t  0.6794230 &  1.0518425 &  0.12945970 &  2.3766246 & 0.8652372 &  0.4034514\\\\\n\t -1.1469032 & -1.0618102 & -0.04939965 &  0.5597176 & 0.7240734 &  0.7365953\\\\\n\t -1.7573895 &  0.1779995 & -0.25218026 &  0.5576039 & 0.4537757 &  0.2346197\\\\\n\t -0.6843666 &  0.2299046 &  1.14956594 &  0.1813669 & 0.5359531 & -0.5797062\\\\\n\t -0.4744851 &  0.8150594 & -0.79211723 & -1.3051058 & 0.8200654 & -0.1618692\\\\\n\\end{tabular}\n",
            "text/markdown": "\nA matrix: 5 × 6 of type dbl\n\n|  0.6794230 |  1.0518425 |  0.12945970 |  2.3766246 | 0.8652372 |  0.4034514 |\n| -1.1469032 | -1.0618102 | -0.04939965 |  0.5597176 | 0.7240734 |  0.7365953 |\n| -1.7573895 |  0.1779995 | -0.25218026 |  0.5576039 | 0.4537757 |  0.2346197 |\n| -0.6843666 |  0.2299046 |  1.14956594 |  0.1813669 | 0.5359531 | -0.5797062 |\n| -0.4744851 |  0.8150594 | -0.79211723 | -1.3051058 | 0.8200654 | -0.1618692 |\n\n",
            "text/html": [
              "<table class=\"dataframe\">\n",
              "<caption>A matrix: 5 × 6 of type dbl</caption>\n",
              "<tbody>\n",
              "\t<tr><td> 0.6794230</td><td> 1.0518425</td><td> 0.12945970</td><td> 2.3766246</td><td>0.8652372</td><td> 0.4034514</td></tr>\n",
              "\t<tr><td>-1.1469032</td><td>-1.0618102</td><td>-0.04939965</td><td> 0.5597176</td><td>0.7240734</td><td> 0.7365953</td></tr>\n",
              "\t<tr><td>-1.7573895</td><td> 0.1779995</td><td>-0.25218026</td><td> 0.5576039</td><td>0.4537757</td><td> 0.2346197</td></tr>\n",
              "\t<tr><td>-0.6843666</td><td> 0.2299046</td><td> 1.14956594</td><td> 0.1813669</td><td>0.5359531</td><td>-0.5797062</td></tr>\n",
              "\t<tr><td>-0.4744851</td><td> 0.8150594</td><td>-0.79211723</td><td>-1.3051058</td><td>0.8200654</td><td>-0.1618692</td></tr>\n",
              "</tbody>\n",
              "</table>\n"
            ]
          },
          "metadata": {
            "tags": []
          }
        }
      ]
    },
    {
      "cell_type": "code",
      "metadata": {
        "id": "XzaE_-Cyfpk9"
      },
      "source": [
        "# Complete the following code by using looping construct\n",
        "# Construct a 5x6 matrix\n",
        "X <-matrix(rnorm(30), nrow=5, ncol=6)\n",
        "X\n",
        "# Sum the values of each column with apply()\n"
      ],
      "execution_count": null,
      "outputs": []
    },
    {
      "cell_type": "code",
      "metadata": {
        "id": "Lfnll-TP7cVA"
      },
      "source": [
        "# Complete the following code by using apropriate apply family function\n",
        "# Construct a 5x6 matrix\n",
        "X <- matrix(rnorm(30), nrow=5, ncol=6)\n",
        "X"
      ],
      "execution_count": null,
      "outputs": []
    },
    {
      "cell_type": "markdown",
      "metadata": {
        "id": "J0-izDkq7iI7"
      },
      "source": [
        "0.5165078 \t1.5305103 \t-0.7646965 \t-0.49837328 \t-0.925946090 \t1.25737571\n",
        "\n",
        "-0.3844711 \t-1.4791107 \t1.1963674 \t2.13792229 \t0.981846422 \t1.83061202\n",
        "\n",
        "0.9688611 \t2.1647747 \t-0.2931939 \t-0.54401266 \t-1.003213202 \t0.05151787\n",
        "\n",
        "2.3040112 \t0.7137929 \t1.3042172 \t-0.03970395 \t-0.007039444 \t-0.70015365\n",
        "\n",
        "-1.1936599 \t-0.9252435 \t1.7988036 \t-1.33147147 \t-1.815352030 \t1.24517054"
      ]
    },
    {
      "cell_type": "code",
      "metadata": {
        "id": "eFqh7v_s7n-o"
      },
      "source": [
        "# Sum the values of each column with apply()\n",
        "X_colsum <- apply(X,2,sum)\n",
        "X_colsum"
      ],
      "execution_count": null,
      "outputs": []
    },
    {
      "cell_type": "markdown",
      "metadata": {
        "id": "i8viiTOn8Gdo"
      },
      "source": [
        "\n",
        "\n",
        "   1.2.211249043331\n",
        "   \n",
        "   2.2.00472372914817\n",
        "   \n",
        "   3.3.24149786050889\n",
        "   \n",
        "   4.-0.275639058176333\n",
        "   \n",
        "   5.-2.76970434460937\n",
        " \n",
        "  6.3.68452248215729 \n",
        "\n"
      ]
    },
    {
      "cell_type": "code",
      "metadata": {
        "id": "vihms_cV8_yW"
      },
      "source": [
        "# Sum the values of each row with apply()\n",
        "X_rowsum <- apply(X,1,sum)\n",
        "X_rowsum"
      ],
      "execution_count": null,
      "outputs": []
    },
    {
      "cell_type": "markdown",
      "metadata": {
        "id": "ZkyaVV4o9Ht3"
      },
      "source": [
        "\n",
        "\n",
        "   1.1.11537789230419\n",
        "    \n",
        "  2.4.28316639525965\n",
        "    \n",
        "3.1.34473388547648\n",
        "    \n",
        "  4.3.57512425196637\n",
        "    \n",
        "  5.-2.22175271264654\n",
        "\n"
      ]
    },
    {
      "cell_type": "code",
      "metadata": {
        "id": "q5LcFlLY9l-R"
      },
      "source": [
        ""
      ],
      "execution_count": null,
      "outputs": []
    },
    {
      "cell_type": "code",
      "metadata": {
        "id": "lU2CXosK8AN4"
      },
      "source": [
        ""
      ],
      "execution_count": null,
      "outputs": []
    },
    {
      "cell_type": "markdown",
      "metadata": {
        "id": "c8gOYmFjf3lO"
      },
      "source": [
        "The **lapply()** Function is used when You want to apply a given function to every element of a list and obtain a list as a result.\n",
        " \n",
        " Syntax of **lapply()** looks like the **apply()** function.\n",
        "\n",
        "There is a slight difference in way they work, which is :\n",
        "\n",
        "\n",
        "\n",
        "1.   **lapply()** can be used for other objects like dataframes, lists or vectors\n",
        "2.   The output returned by **lapply()** is a list (which explains the “l” in the function name), which has the same number of elements as the object passed to it.\n",
        "\n",
        "To see how this works, complete the following code block.\n",
        "\n",
        "**lapply()** is a quite common operation performed on real data when making comparisons or aggregations from different dataframes.\n"
      ]
    },
    {
      "cell_type": "code",
      "metadata": {
        "id": "CbwaRO2ChyfV"
      },
      "source": [
        "# Using sequence 1:9 create a matrix A with size 3*3\n",
        "\n",
        "#Using sequence 4:15 create a matrix B with size 4*3\n",
        "\n",
        "#Using sequnce 8:10 create a matrix C with size 3*2\n",
        "\n",
        "# create variable MyList as list of matrix A, B, C\n",
        "\n",
        "\n",
        "# Using lapply and [ operator Extract the 2nd column from `MyList` with the selection operator `[` with `lapply()`\n",
        "\n",
        "# Using lapply and [ operator Extract the 4th row from `MyList` with the selection operator `[` with `lapply()`\n",
        "\n",
        "\n",
        "# Using lapply and [ operator Extract the 1st row from `MyList` with the selection operator `[` with `lapply()`\n",
        "\n"
      ],
      "execution_count": null,
      "outputs": []
    },
    {
      "cell_type": "code",
      "metadata": {
        "id": "LzUi0zbA-CbD"
      },
      "source": [
        "# Using sequence 1:9 create a matrix A with size 3*3\n",
        "A <- matrix(1:9, nrow=3, ncol=3)\n",
        "A"
      ],
      "execution_count": null,
      "outputs": []
    },
    {
      "cell_type": "markdown",
      "metadata": {
        "id": "PpkBt82C-DrS"
      },
      "source": [
        "1 \t4 \t7\n",
        "\n",
        "2 \t5 \t8\n",
        "\n",
        "3 \t6 \t9\n",
        "\n",
        "\n",
        "\n",
        "\n",
        "\n",
        "\n",
        "\n",
        "\n",
        "\n",
        "\n",
        "\n",
        "\n",
        "\n",
        "\n",
        "\n"
      ]
    },
    {
      "cell_type": "code",
      "metadata": {
        "id": "VUvrMx8M-4wq"
      },
      "source": [
        "#Using sequence 4:15 create a matrix B with size 4*3\n",
        "B <- matrix(4:15, nrow=4, ncol=3)\n",
        "B"
      ],
      "execution_count": null,
      "outputs": []
    },
    {
      "cell_type": "markdown",
      "metadata": {
        "id": "GASStMoOB7q9"
      },
      "source": [
        "4 \t8 \t12\n",
        "\n",
        "5 \t9 \t13\n",
        "\n",
        "6 \t10 \t14\n",
        "\n",
        "7 \t11 \t15"
      ]
    },
    {
      "cell_type": "code",
      "metadata": {
        "id": "Jqopnbq0IqxJ"
      },
      "source": [
        "#Using sequnce 8:10 create a matrix C with size 3*2\n",
        "C <- matrix(8:10, nrow=3, ncol=2)\n",
        "C"
      ],
      "execution_count": null,
      "outputs": []
    },
    {
      "cell_type": "markdown",
      "metadata": {
        "id": "C6LNuKkxI-cF"
      },
      "source": [
        "8 \t8\n",
        "\n",
        "9 \t9\n",
        "\n",
        "10 \t10"
      ]
    },
    {
      "cell_type": "code",
      "metadata": {
        "id": "6KtL3B0MJHpH"
      },
      "source": [
        "# create variable MyList as list of matrix A, B, C\n",
        "MyList <- list(A, B, C)\n",
        "MyList"
      ],
      "execution_count": null,
      "outputs": []
    },
    {
      "cell_type": "markdown",
      "metadata": {
        "id": "3UYJy0mEJMQV"
      },
      "source": [
        "1 \t4 \t7\n",
        "\n",
        "2 \t5 \t8\n",
        "\n",
        "3 \t6 \t9\n",
        "\n",
        "\n",
        "\n",
        "\n",
        "    4 \t8 \t12\n",
        "\n",
        "    5 \t9 \t13\n",
        "\n",
        "    6 \t10 \t14\n",
        "\n",
        "    7 \t11 \t15\n",
        "\n",
        "\n",
        "8 \t8\n",
        "\n",
        "9 \t9\n",
        "\n",
        "10 \t10"
      ]
    },
    {
      "cell_type": "code",
      "metadata": {
        "id": "2xT8NQ5LKhbp"
      },
      "source": [
        "# Using lapply and [ operator Extract the 2nd column from `MyList` with the selection operator `[` with `lapply()`\n",
        "lapply(MyList, '[', , 2)"
      ],
      "execution_count": null,
      "outputs": []
    },
    {
      "cell_type": "markdown",
      "metadata": {
        "id": "Pp7TgxuTKnbA"
      },
      "source": [
        "\n",
        "\n",
        "    1.A.4\n",
        "    B.5\n",
        "    C.6\n",
        "\n",
        "    2.A.8\n",
        "    B.9\n",
        "    C.10\n",
        "    D.11\n",
        "\n",
        "    3.A.8\n",
        "    B.9\n",
        "    C.1"
      ]
    },
    {
      "cell_type": "code",
      "metadata": {
        "id": "bv133WSFLFUf"
      },
      "source": [
        "# Using lapply and [ operator Extract the 4th row from `MyList` with the selection operator `[` with `lapply()`\n",
        "lapply(MyList, '[', 4, )\n",
        "# Error Occurs because in MyList there are 3 matrix where matrix A and C is having only 3 rows"
      ],
      "execution_count": null,
      "outputs": []
    },
    {
      "cell_type": "markdown",
      "metadata": {
        "id": "ajkEx7fuLQJy"
      },
      "source": [
        "Error in FUN(X[[i]], ...): subscript out of bounds\n",
        "Traceback:\n",
        "\n",
        "1. lapply(MyList, \"[\", 4, )\n"
      ]
    },
    {
      "cell_type": "code",
      "metadata": {
        "id": "yw5kp_exLVDl"
      },
      "source": [
        "# Using lapply and [ operator Extract the 1st row from `MyList` with the selection operator `[` with `lapply()`\n",
        "lapply(MyList, '[', 1, )"
      ],
      "execution_count": null,
      "outputs": []
    },
    {
      "cell_type": "markdown",
      "metadata": {
        "id": "W7B8OwYLLt-y"
      },
      "source": [
        "\n",
        "\n",
        "        1.A.1\n",
        "        B.4\n",
        "        C.7\n",
        "        2.A.4\n",
        "        B.8\n",
        "        C.12\n",
        "        3.A.8\n",
        "        B.8\n",
        "\n"
      ]
    },
    {
      "cell_type": "markdown",
      "metadata": {
        "id": "G0kWHtRVjDjw"
      },
      "source": [
        "The **sapply()** Function\n",
        "\n",
        "The **sapply()** function works like **lapply()**, but it tries to simplify the output to the most elementary data structure that is possible. And indeed, ```sapply()``` is a **‘wrapper’** function for **lapply()**.\n",
        "\n",
        "Let’s repeat the extraction operation of a single element as in the last example, but now take the first element of the second row (indexes 2 and 1) for each matrix.\n",
        "\n",
        "Applying the **lapply()** function would give us a list unless you pass ```simplify=FALSE``` as a parameter to **sapply()**. Then, a list will be returned. See how it works in the code chunk below:\n",
        "\n"
      ]
    },
    {
      "cell_type": "code",
      "metadata": {
        "id": "RxXnDh47jiBF"
      },
      "source": [
        "# Return a list with `lapply()`\n",
        "lapply(MyList,\"[\", 2, 1 )\n",
        "\n",
        "# Return a vector with `sapply()`\n",
        "sapply(MyList,\"[\", 2, 1 )\n",
        "\n",
        "# Return a list with `sapply()`\n",
        "sapply(MyList,\"[\", 2, 1, simplify=F)\n",
        "\n",
        "# Return a vector with `unlist()`\n",
        "unlist(lapply(MyList,\"[\", 2, 1 ))"
      ],
      "execution_count": null,
      "outputs": []
    },
    {
      "cell_type": "code",
      "metadata": {
        "id": "yhmzRc9nMFi4"
      },
      "source": [
        "# Return a list with `lapply()`\n",
        "lapply(MyList,\"[\", 2, 1 )\n"
      ],
      "execution_count": null,
      "outputs": []
    },
    {
      "cell_type": "markdown",
      "metadata": {
        "id": "Di1oGUz-M0uf"
      },
      "source": [
        "\n",
        "\n",
        "  1.2\n",
        "  \n",
        "  2.5\n",
        "   \n",
        "  3.9\n"
      ]
    },
    {
      "cell_type": "code",
      "metadata": {
        "id": "aTiWa9iEPlEW"
      },
      "source": [
        "# Return a vector with `sapply()`\n",
        "sapply(MyList,\"[\", 2, 1 )"
      ],
      "execution_count": null,
      "outputs": []
    },
    {
      "cell_type": "markdown",
      "metadata": {
        "id": "MJZCRbL-Pmlb"
      },
      "source": [
        "\n",
        "\n",
        "   1.2\n",
        "   \n",
        "   2.5\n",
        "   \n",
        "   3.9\n",
        "\n"
      ]
    },
    {
      "cell_type": "code",
      "metadata": {
        "id": "YIwq5vBAQDpE"
      },
      "source": [
        "# Return a list with `sapply()`\n",
        "sapply(MyList,\"[\", 2, 1, simplify=F)"
      ],
      "execution_count": null,
      "outputs": []
    },
    {
      "cell_type": "markdown",
      "metadata": {
        "id": "cxt2dTIaQItz"
      },
      "source": [
        "\n",
        "\n",
        "   1.2\n",
        "\n",
        "   2.5\n",
        "   \n",
        "  3.9\n",
        "\n"
      ]
    },
    {
      "cell_type": "code",
      "metadata": {
        "id": "yi-a1GROQhBy"
      },
      "source": [
        "# Return a vector with `unlist()`\n",
        "unlist(lapply(MyList,\"[\", 2, 1 ))"
      ],
      "execution_count": null,
      "outputs": []
    },
    {
      "cell_type": "markdown",
      "metadata": {
        "id": "LNMUWC0AQtXT"
      },
      "source": [
        "\n",
        "\n",
        "   1.2\n",
        "\n",
        "   2.5\n",
        "   \n",
        "   3.9\n",
        "\n"
      ]
    },
    {
      "cell_type": "markdown",
      "metadata": {
        "id": "WuuRcW03kJyA"
      },
      "source": [
        "In this Text Block Write note on mapply function and give exampe code and exaplain use of mapply function.\n",
        "\n",
        "1.  The arguments for mapply are mapply(FUN, …, MoreArgs = NULL, SIMPLIFY = TRUE, USE.NAMES = TRUE). First you list the function, followed by the vectors you are using the rest of the arguments have default values so they don’t need to be changed for now. When you have a function that takes 2 arguments, the first vector goes into the first argument and the second vector goes into the second argument.\n",
        "\n",
        "\n",
        "\n"
      ]
    },
    {
      "cell_type": "code",
      "metadata": {
        "id": "pos2C33ujiEh"
      },
      "source": [
        "# Example use of mapply function"
      ],
      "execution_count": null,
      "outputs": []
    },
    {
      "cell_type": "markdown",
      "metadata": {
        "id": "rznWmCaiSt2F"
      },
      "source": [
        "**Example 1**\n",
        "\n",
        "In this example, 1:9 is specifying the value to repeat, and 9:1 is specifying how many times to repeat. This order is based on the order of arguments in the rep function itself"
      ]
    },
    {
      "cell_type": "code",
      "metadata": {
        "id": "vlmOCxwgSvf0"
      },
      "source": [
        "mapply(rep, 1:9, 9:1)"
      ],
      "execution_count": null,
      "outputs": []
    },
    {
      "cell_type": "markdown",
      "metadata": {
        "id": "Kolssc8IS0-1"
      },
      "source": [
        "\n",
        "\n",
        "   1. A.1\n",
        "     \n",
        "     B.1\n",
        "    \n",
        "    C.1\n",
        "   \n",
        "    D.1\n",
        "    \n",
        "    E.1\n",
        "    \n",
        "    F.1\n",
        "    \n",
        "    G.1\n",
        "    \n",
        "    H.1\n",
        "    \n",
        "    I.1\n",
        "\n",
        "  2.A.2\n",
        "    \n",
        "    B.2\n",
        "    \n",
        "    C.2\n",
        "   \n",
        "    D.2\n",
        "    \n",
        "    E.2\n",
        "    \n",
        "    F.2\n",
        "    \n",
        "    G.2\n",
        "    \n",
        "    H.2\n",
        "\n",
        "   3.A.3\n",
        "    \n",
        "    B.3\n",
        "    \n",
        "    C.3\n",
        "    \n",
        "    D.3\n",
        "    \n",
        "    E.3\n",
        "   \n",
        "    F.3\n",
        "   \n",
        "    G.3\n",
        "\n",
        "    4.A.4\n",
        "    \n",
        "    B.4\n",
        "    \n",
        "    C.4\n",
        "   \n",
        "    D.4\n",
        "    \n",
        "    E.4\n",
        "    \n",
        "    F.4\n",
        "\n",
        "    5.A.5\n",
        "    \n",
        "    B.5\n",
        "    \n",
        "    C.5\n",
        "    \n",
        "    D.5\n",
        "    \n",
        "    E.5\n",
        "\n",
        "    6.A.6\n",
        "    \n",
        "    B.6\n",
        "    \n",
        "    C.6\n",
        "    \n",
        "    D.6\n",
        "\n",
        "    7.A.7\n",
        "    \n",
        "    B.7\n",
        "    \n",
        "    C.7\n",
        "\n",
        "    8.A.8\n",
        "    \n",
        "    B.8\n",
        "\n",
        "    A.9"
      ]
    },
    {
      "cell_type": "markdown",
      "metadata": {
        "id": "YgVOnQKGZpQr"
      },
      "source": [
        "\n",
        "**Example 2**\n",
        "\n",
        "Another use for mapply would be to create a new variable. For example, using dataset t, I could divide one column by another column to create a new value. This would be useful for creating a ratio of two variables as shown in the example below.\n"
      ]
    },
    {
      "cell_type": "code",
      "metadata": {
        "id": "Nt5ZsQLCZtF_"
      },
      "source": [
        "my.matrx <- matrix(c(1:10, 11:20, 21:30), nrow = 10, ncol = 3)\n",
        "tdata <- as.data.frame(cbind(c(1,1,1,1,1,2,2,2,2,2), my.matrx))\n",
        "\n",
        "tdata$V5<- mapply(function(x, y) x/y, tdata$V2, tdata$V4)\n",
        "tdata$V5"
      ],
      "execution_count": null,
      "outputs": []
    },
    {
      "cell_type": "markdown",
      "metadata": {
        "id": "5m7_nkklZz9l"
      },
      "source": [
        "\n",
        "\n",
        "   1.0.0476190476190476\n",
        "   \n",
        "   2.0.0909090909090909\n",
        "\n",
        "   3.0.130434782608696\n",
        "\n",
        "   4.0.166666666666667\n",
        "\n",
        "   5.0.2\n",
        "\n",
        "   6.0.230769230769231\n",
        "\n",
        "   7.0.259259259259259\n",
        "\n",
        "   8.0.285714285714286\n",
        "\n",
        "   9.0.310344827586207\n",
        "\n",
        "10.0.333333333333333\n",
        "\n"
      ]
    },
    {
      "cell_type": "markdown",
      "metadata": {
        "id": "8sXQFVkBbXIZ"
      },
      "source": [
        "\n",
        "**Example 3**\n",
        "\n",
        "When using an apply family function to create a new variable, one option is to create a new vector ahead of time with the size of the vector pre-allocated. I created a numeric vector of length 10 using the vector function. The arguments for the vector function are vector(mode, length). Inside mapply I created a function to multiple two variables together. The results of the mapply function are then saved into the vector.\n"
      ]
    },
    {
      "cell_type": "code",
      "metadata": {
        "id": "a99tN7_UcECh"
      },
      "source": [
        "new.vec <- vector(mode = \"numeric\", length = 10)\n",
        "new.vec <- mapply(function(x, y) x*y, tdata$V3, tdata$V4)\n",
        "new.vec"
      ],
      "execution_count": null,
      "outputs": []
    },
    {
      "cell_type": "markdown",
      "metadata": {
        "id": "vgLS8nhVcJdI"
      },
      "source": [
        "\n",
        "\n",
        "   1.231\n",
        "    \n",
        "   2.264\n",
        "\n",
        "   3.299\n",
        "   \n",
        "   4.336\n",
        "\n",
        "   5.375\n",
        "\n",
        "   6.416\n",
        "\n",
        "   7.459\n",
        "\n",
        "   8.504\n",
        "\n",
        "   9.551\n",
        "\n",
        "   10.600 "
      ]
    }
  ]
}