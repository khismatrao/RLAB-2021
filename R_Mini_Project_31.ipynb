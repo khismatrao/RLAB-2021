{
  "nbformat": 4,
  "nbformat_minor": 0,
  "metadata": {
    "colab": {
      "name": "R_Mini Project_31.ipynb",
      "provenance": [],
      "collapsed_sections": [],
      "authorship_tag": "ABX9TyNMk2T0B6lpExR+jS9HRPY0",
      "include_colab_link": true
    },
    "kernelspec": {
      "name": "ir",
      "display_name": "R"
    },
    "language_info": {
      "name": "R"
    }
  },
  "cells": [
    {
      "cell_type": "markdown",
      "metadata": {
        "id": "view-in-github",
        "colab_type": "text"
      },
      "source": [
        "<a href=\"https://colab.research.google.com/github/khismatrao/RLAB-2021/blob/main/R_Mini_Project_31.ipynb\" target=\"_parent\"><img src=\"https://colab.research.google.com/assets/colab-badge.svg\" alt=\"Open In Colab\"/></a>"
      ]
    },
    {
      "cell_type": "code",
      "metadata": {
        "colab": {
          "base_uri": "https://localhost:8080/",
          "height": 1000
        },
        "id": "jz9y132EVJAD",
        "outputId": "a222f619-806c-4c7c-ff93-601d1d78cecc"
      },
      "source": [
        "data <- read.csv(\"heart.csv\")\n",
        "data"
      ],
      "execution_count": 3,
      "outputs": [
        {
          "output_type": "display_data",
          "data": {
            "text/plain": [
              "    age sex cp trtbps chol fbs restecg thalachh exng oldpeak slp caa thall\n",
              "1   63  1   3  145    233  1   0       150      0    2.3     0   0   1    \n",
              "2   37  1   2  130    250  0   1       187      0    3.5     0   0   2    \n",
              "3   41  0   1  130    204  0   0       172      0    1.4     2   0   2    \n",
              "4   56  1   1  120    236  0   1       178      0    0.8     2   0   2    \n",
              "5   57  0   0  120    354  0   1       163      1    0.6     2   0   2    \n",
              "6   57  1   0  140    192  0   1       148      0    0.4     1   0   1    \n",
              "7   56  0   1  140    294  0   0       153      0    1.3     1   0   2    \n",
              "8   44  1   1  120    263  0   1       173      0    0.0     2   0   3    \n",
              "9   52  1   2  172    199  1   1       162      0    0.5     2   0   3    \n",
              "10  57  1   2  150    168  0   1       174      0    1.6     2   0   2    \n",
              "11  54  1   0  140    239  0   1       160      0    1.2     2   0   2    \n",
              "12  48  0   2  130    275  0   1       139      0    0.2     2   0   2    \n",
              "13  49  1   1  130    266  0   1       171      0    0.6     2   0   2    \n",
              "14  64  1   3  110    211  0   0       144      1    1.8     1   0   2    \n",
              "15  58  0   3  150    283  1   0       162      0    1.0     2   0   2    \n",
              "16  50  0   2  120    219  0   1       158      0    1.6     1   0   2    \n",
              "17  58  0   2  120    340  0   1       172      0    0.0     2   0   2    \n",
              "18  66  0   3  150    226  0   1       114      0    2.6     0   0   2    \n",
              "19  43  1   0  150    247  0   1       171      0    1.5     2   0   2    \n",
              "20  69  0   3  140    239  0   1       151      0    1.8     2   2   2    \n",
              "21  59  1   0  135    234  0   1       161      0    0.5     1   0   3    \n",
              "22  44  1   2  130    233  0   1       179      1    0.4     2   0   2    \n",
              "23  42  1   0  140    226  0   1       178      0    0.0     2   0   2    \n",
              "24  61  1   2  150    243  1   1       137      1    1.0     1   0   2    \n",
              "25  40  1   3  140    199  0   1       178      1    1.4     2   0   3    \n",
              "26  71  0   1  160    302  0   1       162      0    0.4     2   2   2    \n",
              "27  59  1   2  150    212  1   1       157      0    1.6     2   0   2    \n",
              "28  51  1   2  110    175  0   1       123      0    0.6     2   0   2    \n",
              "29  65  0   2  140    417  1   0       157      0    0.8     2   1   2    \n",
              "30  53  1   2  130    197  1   0       152      0    1.2     0   0   2    \n",
              "⋮   ⋮   ⋮   ⋮  ⋮      ⋮    ⋮   ⋮       ⋮        ⋮    ⋮       ⋮   ⋮   ⋮    \n",
              "274 58  1   0  100    234  0   1       156      0    0.1     2   1   3    \n",
              "275 47  1   0  110    275  0   0       118      1    1.0     1   1   2    \n",
              "276 52  1   0  125    212  0   1       168      0    1.0     2   2   3    \n",
              "277 58  1   0  146    218  0   1       105      0    2.0     1   1   3    \n",
              "278 57  1   1  124    261  0   1       141      0    0.3     2   0   3    \n",
              "279 58  0   1  136    319  1   0       152      0    0.0     2   2   2    \n",
              "280 61  1   0  138    166  0   0       125      1    3.6     1   1   2    \n",
              "281 42  1   0  136    315  0   1       125      1    1.8     1   0   1    \n",
              "282 52  1   0  128    204  1   1       156      1    1.0     1   0   0    \n",
              "283 59  1   2  126    218  1   1       134      0    2.2     1   1   1    \n",
              "284 40  1   0  152    223  0   1       181      0    0.0     2   0   3    \n",
              "285 61  1   0  140    207  0   0       138      1    1.9     2   1   3    \n",
              "286 46  1   0  140    311  0   1       120      1    1.8     1   2   3    \n",
              "287 59  1   3  134    204  0   1       162      0    0.8     2   2   2    \n",
              "288 57  1   1  154    232  0   0       164      0    0.0     2   1   2    \n",
              "289 57  1   0  110    335  0   1       143      1    3.0     1   1   3    \n",
              "290 55  0   0  128    205  0   2       130      1    2.0     1   1   3    \n",
              "291 61  1   0  148    203  0   1       161      0    0.0     2   1   3    \n",
              "292 58  1   0  114    318  0   2       140      0    4.4     0   3   1    \n",
              "293 58  0   0  170    225  1   0       146      1    2.8     1   2   1    \n",
              "294 67  1   2  152    212  0   0       150      0    0.8     1   0   3    \n",
              "295 44  1   0  120    169  0   1       144      1    2.8     0   0   1    \n",
              "296 63  1   0  140    187  0   0       144      1    4.0     2   2   3    \n",
              "297 63  0   0  124    197  0   1       136      1    0.0     1   0   2    \n",
              "298 59  1   0  164    176  1   0        90      0    1.0     1   2   1    \n",
              "299 57  0   0  140    241  0   1       123      1    0.2     1   0   3    \n",
              "300 45  1   3  110    264  0   1       132      0    1.2     1   0   3    \n",
              "301 68  1   0  144    193  1   1       141      0    3.4     1   2   3    \n",
              "302 57  1   0  130    131  0   1       115      1    1.2     1   1   3    \n",
              "303 57  0   1  130    236  0   0       174      0    0.0     1   1   2    \n",
              "    output\n",
              "1   1     \n",
              "2   1     \n",
              "3   1     \n",
              "4   1     \n",
              "5   1     \n",
              "6   1     \n",
              "7   1     \n",
              "8   1     \n",
              "9   1     \n",
              "10  1     \n",
              "11  1     \n",
              "12  1     \n",
              "13  1     \n",
              "14  1     \n",
              "15  1     \n",
              "16  1     \n",
              "17  1     \n",
              "18  1     \n",
              "19  1     \n",
              "20  1     \n",
              "21  1     \n",
              "22  1     \n",
              "23  1     \n",
              "24  1     \n",
              "25  1     \n",
              "26  1     \n",
              "27  1     \n",
              "28  1     \n",
              "29  1     \n",
              "30  1     \n",
              "⋮   ⋮     \n",
              "274 0     \n",
              "275 0     \n",
              "276 0     \n",
              "277 0     \n",
              "278 0     \n",
              "279 0     \n",
              "280 0     \n",
              "281 0     \n",
              "282 0     \n",
              "283 0     \n",
              "284 0     \n",
              "285 0     \n",
              "286 0     \n",
              "287 0     \n",
              "288 0     \n",
              "289 0     \n",
              "290 0     \n",
              "291 0     \n",
              "292 0     \n",
              "293 0     \n",
              "294 0     \n",
              "295 0     \n",
              "296 0     \n",
              "297 0     \n",
              "298 0     \n",
              "299 0     \n",
              "300 0     \n",
              "301 0     \n",
              "302 0     \n",
              "303 0     "
            ],
            "text/latex": "A data.frame: 303 × 14\n\\begin{tabular}{llllllllllllll}\n age & sex & cp & trtbps & chol & fbs & restecg & thalachh & exng & oldpeak & slp & caa & thall & output\\\\\n <int> & <int> & <int> & <int> & <int> & <int> & <int> & <int> & <int> & <dbl> & <int> & <int> & <int> & <int>\\\\\n\\hline\n\t 63 & 1 & 3 & 145 & 233 & 1 & 0 & 150 & 0 & 2.3 & 0 & 0 & 1 & 1\\\\\n\t 37 & 1 & 2 & 130 & 250 & 0 & 1 & 187 & 0 & 3.5 & 0 & 0 & 2 & 1\\\\\n\t 41 & 0 & 1 & 130 & 204 & 0 & 0 & 172 & 0 & 1.4 & 2 & 0 & 2 & 1\\\\\n\t 56 & 1 & 1 & 120 & 236 & 0 & 1 & 178 & 0 & 0.8 & 2 & 0 & 2 & 1\\\\\n\t 57 & 0 & 0 & 120 & 354 & 0 & 1 & 163 & 1 & 0.6 & 2 & 0 & 2 & 1\\\\\n\t 57 & 1 & 0 & 140 & 192 & 0 & 1 & 148 & 0 & 0.4 & 1 & 0 & 1 & 1\\\\\n\t 56 & 0 & 1 & 140 & 294 & 0 & 0 & 153 & 0 & 1.3 & 1 & 0 & 2 & 1\\\\\n\t 44 & 1 & 1 & 120 & 263 & 0 & 1 & 173 & 0 & 0.0 & 2 & 0 & 3 & 1\\\\\n\t 52 & 1 & 2 & 172 & 199 & 1 & 1 & 162 & 0 & 0.5 & 2 & 0 & 3 & 1\\\\\n\t 57 & 1 & 2 & 150 & 168 & 0 & 1 & 174 & 0 & 1.6 & 2 & 0 & 2 & 1\\\\\n\t 54 & 1 & 0 & 140 & 239 & 0 & 1 & 160 & 0 & 1.2 & 2 & 0 & 2 & 1\\\\\n\t 48 & 0 & 2 & 130 & 275 & 0 & 1 & 139 & 0 & 0.2 & 2 & 0 & 2 & 1\\\\\n\t 49 & 1 & 1 & 130 & 266 & 0 & 1 & 171 & 0 & 0.6 & 2 & 0 & 2 & 1\\\\\n\t 64 & 1 & 3 & 110 & 211 & 0 & 0 & 144 & 1 & 1.8 & 1 & 0 & 2 & 1\\\\\n\t 58 & 0 & 3 & 150 & 283 & 1 & 0 & 162 & 0 & 1.0 & 2 & 0 & 2 & 1\\\\\n\t 50 & 0 & 2 & 120 & 219 & 0 & 1 & 158 & 0 & 1.6 & 1 & 0 & 2 & 1\\\\\n\t 58 & 0 & 2 & 120 & 340 & 0 & 1 & 172 & 0 & 0.0 & 2 & 0 & 2 & 1\\\\\n\t 66 & 0 & 3 & 150 & 226 & 0 & 1 & 114 & 0 & 2.6 & 0 & 0 & 2 & 1\\\\\n\t 43 & 1 & 0 & 150 & 247 & 0 & 1 & 171 & 0 & 1.5 & 2 & 0 & 2 & 1\\\\\n\t 69 & 0 & 3 & 140 & 239 & 0 & 1 & 151 & 0 & 1.8 & 2 & 2 & 2 & 1\\\\\n\t 59 & 1 & 0 & 135 & 234 & 0 & 1 & 161 & 0 & 0.5 & 1 & 0 & 3 & 1\\\\\n\t 44 & 1 & 2 & 130 & 233 & 0 & 1 & 179 & 1 & 0.4 & 2 & 0 & 2 & 1\\\\\n\t 42 & 1 & 0 & 140 & 226 & 0 & 1 & 178 & 0 & 0.0 & 2 & 0 & 2 & 1\\\\\n\t 61 & 1 & 2 & 150 & 243 & 1 & 1 & 137 & 1 & 1.0 & 1 & 0 & 2 & 1\\\\\n\t 40 & 1 & 3 & 140 & 199 & 0 & 1 & 178 & 1 & 1.4 & 2 & 0 & 3 & 1\\\\\n\t 71 & 0 & 1 & 160 & 302 & 0 & 1 & 162 & 0 & 0.4 & 2 & 2 & 2 & 1\\\\\n\t 59 & 1 & 2 & 150 & 212 & 1 & 1 & 157 & 0 & 1.6 & 2 & 0 & 2 & 1\\\\\n\t 51 & 1 & 2 & 110 & 175 & 0 & 1 & 123 & 0 & 0.6 & 2 & 0 & 2 & 1\\\\\n\t 65 & 0 & 2 & 140 & 417 & 1 & 0 & 157 & 0 & 0.8 & 2 & 1 & 2 & 1\\\\\n\t 53 & 1 & 2 & 130 & 197 & 1 & 0 & 152 & 0 & 1.2 & 0 & 0 & 2 & 1\\\\\n\t ⋮ & ⋮ & ⋮ & ⋮ & ⋮ & ⋮ & ⋮ & ⋮ & ⋮ & ⋮ & ⋮ & ⋮ & ⋮ & ⋮\\\\\n\t 58 & 1 & 0 & 100 & 234 & 0 & 1 & 156 & 0 & 0.1 & 2 & 1 & 3 & 0\\\\\n\t 47 & 1 & 0 & 110 & 275 & 0 & 0 & 118 & 1 & 1.0 & 1 & 1 & 2 & 0\\\\\n\t 52 & 1 & 0 & 125 & 212 & 0 & 1 & 168 & 0 & 1.0 & 2 & 2 & 3 & 0\\\\\n\t 58 & 1 & 0 & 146 & 218 & 0 & 1 & 105 & 0 & 2.0 & 1 & 1 & 3 & 0\\\\\n\t 57 & 1 & 1 & 124 & 261 & 0 & 1 & 141 & 0 & 0.3 & 2 & 0 & 3 & 0\\\\\n\t 58 & 0 & 1 & 136 & 319 & 1 & 0 & 152 & 0 & 0.0 & 2 & 2 & 2 & 0\\\\\n\t 61 & 1 & 0 & 138 & 166 & 0 & 0 & 125 & 1 & 3.6 & 1 & 1 & 2 & 0\\\\\n\t 42 & 1 & 0 & 136 & 315 & 0 & 1 & 125 & 1 & 1.8 & 1 & 0 & 1 & 0\\\\\n\t 52 & 1 & 0 & 128 & 204 & 1 & 1 & 156 & 1 & 1.0 & 1 & 0 & 0 & 0\\\\\n\t 59 & 1 & 2 & 126 & 218 & 1 & 1 & 134 & 0 & 2.2 & 1 & 1 & 1 & 0\\\\\n\t 40 & 1 & 0 & 152 & 223 & 0 & 1 & 181 & 0 & 0.0 & 2 & 0 & 3 & 0\\\\\n\t 61 & 1 & 0 & 140 & 207 & 0 & 0 & 138 & 1 & 1.9 & 2 & 1 & 3 & 0\\\\\n\t 46 & 1 & 0 & 140 & 311 & 0 & 1 & 120 & 1 & 1.8 & 1 & 2 & 3 & 0\\\\\n\t 59 & 1 & 3 & 134 & 204 & 0 & 1 & 162 & 0 & 0.8 & 2 & 2 & 2 & 0\\\\\n\t 57 & 1 & 1 & 154 & 232 & 0 & 0 & 164 & 0 & 0.0 & 2 & 1 & 2 & 0\\\\\n\t 57 & 1 & 0 & 110 & 335 & 0 & 1 & 143 & 1 & 3.0 & 1 & 1 & 3 & 0\\\\\n\t 55 & 0 & 0 & 128 & 205 & 0 & 2 & 130 & 1 & 2.0 & 1 & 1 & 3 & 0\\\\\n\t 61 & 1 & 0 & 148 & 203 & 0 & 1 & 161 & 0 & 0.0 & 2 & 1 & 3 & 0\\\\\n\t 58 & 1 & 0 & 114 & 318 & 0 & 2 & 140 & 0 & 4.4 & 0 & 3 & 1 & 0\\\\\n\t 58 & 0 & 0 & 170 & 225 & 1 & 0 & 146 & 1 & 2.8 & 1 & 2 & 1 & 0\\\\\n\t 67 & 1 & 2 & 152 & 212 & 0 & 0 & 150 & 0 & 0.8 & 1 & 0 & 3 & 0\\\\\n\t 44 & 1 & 0 & 120 & 169 & 0 & 1 & 144 & 1 & 2.8 & 0 & 0 & 1 & 0\\\\\n\t 63 & 1 & 0 & 140 & 187 & 0 & 0 & 144 & 1 & 4.0 & 2 & 2 & 3 & 0\\\\\n\t 63 & 0 & 0 & 124 & 197 & 0 & 1 & 136 & 1 & 0.0 & 1 & 0 & 2 & 0\\\\\n\t 59 & 1 & 0 & 164 & 176 & 1 & 0 &  90 & 0 & 1.0 & 1 & 2 & 1 & 0\\\\\n\t 57 & 0 & 0 & 140 & 241 & 0 & 1 & 123 & 1 & 0.2 & 1 & 0 & 3 & 0\\\\\n\t 45 & 1 & 3 & 110 & 264 & 0 & 1 & 132 & 0 & 1.2 & 1 & 0 & 3 & 0\\\\\n\t 68 & 1 & 0 & 144 & 193 & 1 & 1 & 141 & 0 & 3.4 & 1 & 2 & 3 & 0\\\\\n\t 57 & 1 & 0 & 130 & 131 & 0 & 1 & 115 & 1 & 1.2 & 1 & 1 & 3 & 0\\\\\n\t 57 & 0 & 1 & 130 & 236 & 0 & 0 & 174 & 0 & 0.0 & 1 & 1 & 2 & 0\\\\\n\\end{tabular}\n",
            "text/markdown": "\nA data.frame: 303 × 14\n\n| age &lt;int&gt; | sex &lt;int&gt; | cp &lt;int&gt; | trtbps &lt;int&gt; | chol &lt;int&gt; | fbs &lt;int&gt; | restecg &lt;int&gt; | thalachh &lt;int&gt; | exng &lt;int&gt; | oldpeak &lt;dbl&gt; | slp &lt;int&gt; | caa &lt;int&gt; | thall &lt;int&gt; | output &lt;int&gt; |\n|---|---|---|---|---|---|---|---|---|---|---|---|---|---|\n| 63 | 1 | 3 | 145 | 233 | 1 | 0 | 150 | 0 | 2.3 | 0 | 0 | 1 | 1 |\n| 37 | 1 | 2 | 130 | 250 | 0 | 1 | 187 | 0 | 3.5 | 0 | 0 | 2 | 1 |\n| 41 | 0 | 1 | 130 | 204 | 0 | 0 | 172 | 0 | 1.4 | 2 | 0 | 2 | 1 |\n| 56 | 1 | 1 | 120 | 236 | 0 | 1 | 178 | 0 | 0.8 | 2 | 0 | 2 | 1 |\n| 57 | 0 | 0 | 120 | 354 | 0 | 1 | 163 | 1 | 0.6 | 2 | 0 | 2 | 1 |\n| 57 | 1 | 0 | 140 | 192 | 0 | 1 | 148 | 0 | 0.4 | 1 | 0 | 1 | 1 |\n| 56 | 0 | 1 | 140 | 294 | 0 | 0 | 153 | 0 | 1.3 | 1 | 0 | 2 | 1 |\n| 44 | 1 | 1 | 120 | 263 | 0 | 1 | 173 | 0 | 0.0 | 2 | 0 | 3 | 1 |\n| 52 | 1 | 2 | 172 | 199 | 1 | 1 | 162 | 0 | 0.5 | 2 | 0 | 3 | 1 |\n| 57 | 1 | 2 | 150 | 168 | 0 | 1 | 174 | 0 | 1.6 | 2 | 0 | 2 | 1 |\n| 54 | 1 | 0 | 140 | 239 | 0 | 1 | 160 | 0 | 1.2 | 2 | 0 | 2 | 1 |\n| 48 | 0 | 2 | 130 | 275 | 0 | 1 | 139 | 0 | 0.2 | 2 | 0 | 2 | 1 |\n| 49 | 1 | 1 | 130 | 266 | 0 | 1 | 171 | 0 | 0.6 | 2 | 0 | 2 | 1 |\n| 64 | 1 | 3 | 110 | 211 | 0 | 0 | 144 | 1 | 1.8 | 1 | 0 | 2 | 1 |\n| 58 | 0 | 3 | 150 | 283 | 1 | 0 | 162 | 0 | 1.0 | 2 | 0 | 2 | 1 |\n| 50 | 0 | 2 | 120 | 219 | 0 | 1 | 158 | 0 | 1.6 | 1 | 0 | 2 | 1 |\n| 58 | 0 | 2 | 120 | 340 | 0 | 1 | 172 | 0 | 0.0 | 2 | 0 | 2 | 1 |\n| 66 | 0 | 3 | 150 | 226 | 0 | 1 | 114 | 0 | 2.6 | 0 | 0 | 2 | 1 |\n| 43 | 1 | 0 | 150 | 247 | 0 | 1 | 171 | 0 | 1.5 | 2 | 0 | 2 | 1 |\n| 69 | 0 | 3 | 140 | 239 | 0 | 1 | 151 | 0 | 1.8 | 2 | 2 | 2 | 1 |\n| 59 | 1 | 0 | 135 | 234 | 0 | 1 | 161 | 0 | 0.5 | 1 | 0 | 3 | 1 |\n| 44 | 1 | 2 | 130 | 233 | 0 | 1 | 179 | 1 | 0.4 | 2 | 0 | 2 | 1 |\n| 42 | 1 | 0 | 140 | 226 | 0 | 1 | 178 | 0 | 0.0 | 2 | 0 | 2 | 1 |\n| 61 | 1 | 2 | 150 | 243 | 1 | 1 | 137 | 1 | 1.0 | 1 | 0 | 2 | 1 |\n| 40 | 1 | 3 | 140 | 199 | 0 | 1 | 178 | 1 | 1.4 | 2 | 0 | 3 | 1 |\n| 71 | 0 | 1 | 160 | 302 | 0 | 1 | 162 | 0 | 0.4 | 2 | 2 | 2 | 1 |\n| 59 | 1 | 2 | 150 | 212 | 1 | 1 | 157 | 0 | 1.6 | 2 | 0 | 2 | 1 |\n| 51 | 1 | 2 | 110 | 175 | 0 | 1 | 123 | 0 | 0.6 | 2 | 0 | 2 | 1 |\n| 65 | 0 | 2 | 140 | 417 | 1 | 0 | 157 | 0 | 0.8 | 2 | 1 | 2 | 1 |\n| 53 | 1 | 2 | 130 | 197 | 1 | 0 | 152 | 0 | 1.2 | 0 | 0 | 2 | 1 |\n| ⋮ | ⋮ | ⋮ | ⋮ | ⋮ | ⋮ | ⋮ | ⋮ | ⋮ | ⋮ | ⋮ | ⋮ | ⋮ | ⋮ |\n| 58 | 1 | 0 | 100 | 234 | 0 | 1 | 156 | 0 | 0.1 | 2 | 1 | 3 | 0 |\n| 47 | 1 | 0 | 110 | 275 | 0 | 0 | 118 | 1 | 1.0 | 1 | 1 | 2 | 0 |\n| 52 | 1 | 0 | 125 | 212 | 0 | 1 | 168 | 0 | 1.0 | 2 | 2 | 3 | 0 |\n| 58 | 1 | 0 | 146 | 218 | 0 | 1 | 105 | 0 | 2.0 | 1 | 1 | 3 | 0 |\n| 57 | 1 | 1 | 124 | 261 | 0 | 1 | 141 | 0 | 0.3 | 2 | 0 | 3 | 0 |\n| 58 | 0 | 1 | 136 | 319 | 1 | 0 | 152 | 0 | 0.0 | 2 | 2 | 2 | 0 |\n| 61 | 1 | 0 | 138 | 166 | 0 | 0 | 125 | 1 | 3.6 | 1 | 1 | 2 | 0 |\n| 42 | 1 | 0 | 136 | 315 | 0 | 1 | 125 | 1 | 1.8 | 1 | 0 | 1 | 0 |\n| 52 | 1 | 0 | 128 | 204 | 1 | 1 | 156 | 1 | 1.0 | 1 | 0 | 0 | 0 |\n| 59 | 1 | 2 | 126 | 218 | 1 | 1 | 134 | 0 | 2.2 | 1 | 1 | 1 | 0 |\n| 40 | 1 | 0 | 152 | 223 | 0 | 1 | 181 | 0 | 0.0 | 2 | 0 | 3 | 0 |\n| 61 | 1 | 0 | 140 | 207 | 0 | 0 | 138 | 1 | 1.9 | 2 | 1 | 3 | 0 |\n| 46 | 1 | 0 | 140 | 311 | 0 | 1 | 120 | 1 | 1.8 | 1 | 2 | 3 | 0 |\n| 59 | 1 | 3 | 134 | 204 | 0 | 1 | 162 | 0 | 0.8 | 2 | 2 | 2 | 0 |\n| 57 | 1 | 1 | 154 | 232 | 0 | 0 | 164 | 0 | 0.0 | 2 | 1 | 2 | 0 |\n| 57 | 1 | 0 | 110 | 335 | 0 | 1 | 143 | 1 | 3.0 | 1 | 1 | 3 | 0 |\n| 55 | 0 | 0 | 128 | 205 | 0 | 2 | 130 | 1 | 2.0 | 1 | 1 | 3 | 0 |\n| 61 | 1 | 0 | 148 | 203 | 0 | 1 | 161 | 0 | 0.0 | 2 | 1 | 3 | 0 |\n| 58 | 1 | 0 | 114 | 318 | 0 | 2 | 140 | 0 | 4.4 | 0 | 3 | 1 | 0 |\n| 58 | 0 | 0 | 170 | 225 | 1 | 0 | 146 | 1 | 2.8 | 1 | 2 | 1 | 0 |\n| 67 | 1 | 2 | 152 | 212 | 0 | 0 | 150 | 0 | 0.8 | 1 | 0 | 3 | 0 |\n| 44 | 1 | 0 | 120 | 169 | 0 | 1 | 144 | 1 | 2.8 | 0 | 0 | 1 | 0 |\n| 63 | 1 | 0 | 140 | 187 | 0 | 0 | 144 | 1 | 4.0 | 2 | 2 | 3 | 0 |\n| 63 | 0 | 0 | 124 | 197 | 0 | 1 | 136 | 1 | 0.0 | 1 | 0 | 2 | 0 |\n| 59 | 1 | 0 | 164 | 176 | 1 | 0 |  90 | 0 | 1.0 | 1 | 2 | 1 | 0 |\n| 57 | 0 | 0 | 140 | 241 | 0 | 1 | 123 | 1 | 0.2 | 1 | 0 | 3 | 0 |\n| 45 | 1 | 3 | 110 | 264 | 0 | 1 | 132 | 0 | 1.2 | 1 | 0 | 3 | 0 |\n| 68 | 1 | 0 | 144 | 193 | 1 | 1 | 141 | 0 | 3.4 | 1 | 2 | 3 | 0 |\n| 57 | 1 | 0 | 130 | 131 | 0 | 1 | 115 | 1 | 1.2 | 1 | 1 | 3 | 0 |\n| 57 | 0 | 1 | 130 | 236 | 0 | 0 | 174 | 0 | 0.0 | 1 | 1 | 2 | 0 |\n\n",
            "text/html": [
              "<table class=\"dataframe\">\n",
              "<caption>A data.frame: 303 × 14</caption>\n",
              "<thead>\n",
              "\t<tr><th scope=col>age</th><th scope=col>sex</th><th scope=col>cp</th><th scope=col>trtbps</th><th scope=col>chol</th><th scope=col>fbs</th><th scope=col>restecg</th><th scope=col>thalachh</th><th scope=col>exng</th><th scope=col>oldpeak</th><th scope=col>slp</th><th scope=col>caa</th><th scope=col>thall</th><th scope=col>output</th></tr>\n",
              "\t<tr><th scope=col>&lt;int&gt;</th><th scope=col>&lt;int&gt;</th><th scope=col>&lt;int&gt;</th><th scope=col>&lt;int&gt;</th><th scope=col>&lt;int&gt;</th><th scope=col>&lt;int&gt;</th><th scope=col>&lt;int&gt;</th><th scope=col>&lt;int&gt;</th><th scope=col>&lt;int&gt;</th><th scope=col>&lt;dbl&gt;</th><th scope=col>&lt;int&gt;</th><th scope=col>&lt;int&gt;</th><th scope=col>&lt;int&gt;</th><th scope=col>&lt;int&gt;</th></tr>\n",
              "</thead>\n",
              "<tbody>\n",
              "\t<tr><td>63</td><td>1</td><td>3</td><td>145</td><td>233</td><td>1</td><td>0</td><td>150</td><td>0</td><td>2.3</td><td>0</td><td>0</td><td>1</td><td>1</td></tr>\n",
              "\t<tr><td>37</td><td>1</td><td>2</td><td>130</td><td>250</td><td>0</td><td>1</td><td>187</td><td>0</td><td>3.5</td><td>0</td><td>0</td><td>2</td><td>1</td></tr>\n",
              "\t<tr><td>41</td><td>0</td><td>1</td><td>130</td><td>204</td><td>0</td><td>0</td><td>172</td><td>0</td><td>1.4</td><td>2</td><td>0</td><td>2</td><td>1</td></tr>\n",
              "\t<tr><td>56</td><td>1</td><td>1</td><td>120</td><td>236</td><td>0</td><td>1</td><td>178</td><td>0</td><td>0.8</td><td>2</td><td>0</td><td>2</td><td>1</td></tr>\n",
              "\t<tr><td>57</td><td>0</td><td>0</td><td>120</td><td>354</td><td>0</td><td>1</td><td>163</td><td>1</td><td>0.6</td><td>2</td><td>0</td><td>2</td><td>1</td></tr>\n",
              "\t<tr><td>57</td><td>1</td><td>0</td><td>140</td><td>192</td><td>0</td><td>1</td><td>148</td><td>0</td><td>0.4</td><td>1</td><td>0</td><td>1</td><td>1</td></tr>\n",
              "\t<tr><td>56</td><td>0</td><td>1</td><td>140</td><td>294</td><td>0</td><td>0</td><td>153</td><td>0</td><td>1.3</td><td>1</td><td>0</td><td>2</td><td>1</td></tr>\n",
              "\t<tr><td>44</td><td>1</td><td>1</td><td>120</td><td>263</td><td>0</td><td>1</td><td>173</td><td>0</td><td>0.0</td><td>2</td><td>0</td><td>3</td><td>1</td></tr>\n",
              "\t<tr><td>52</td><td>1</td><td>2</td><td>172</td><td>199</td><td>1</td><td>1</td><td>162</td><td>0</td><td>0.5</td><td>2</td><td>0</td><td>3</td><td>1</td></tr>\n",
              "\t<tr><td>57</td><td>1</td><td>2</td><td>150</td><td>168</td><td>0</td><td>1</td><td>174</td><td>0</td><td>1.6</td><td>2</td><td>0</td><td>2</td><td>1</td></tr>\n",
              "\t<tr><td>54</td><td>1</td><td>0</td><td>140</td><td>239</td><td>0</td><td>1</td><td>160</td><td>0</td><td>1.2</td><td>2</td><td>0</td><td>2</td><td>1</td></tr>\n",
              "\t<tr><td>48</td><td>0</td><td>2</td><td>130</td><td>275</td><td>0</td><td>1</td><td>139</td><td>0</td><td>0.2</td><td>2</td><td>0</td><td>2</td><td>1</td></tr>\n",
              "\t<tr><td>49</td><td>1</td><td>1</td><td>130</td><td>266</td><td>0</td><td>1</td><td>171</td><td>0</td><td>0.6</td><td>2</td><td>0</td><td>2</td><td>1</td></tr>\n",
              "\t<tr><td>64</td><td>1</td><td>3</td><td>110</td><td>211</td><td>0</td><td>0</td><td>144</td><td>1</td><td>1.8</td><td>1</td><td>0</td><td>2</td><td>1</td></tr>\n",
              "\t<tr><td>58</td><td>0</td><td>3</td><td>150</td><td>283</td><td>1</td><td>0</td><td>162</td><td>0</td><td>1.0</td><td>2</td><td>0</td><td>2</td><td>1</td></tr>\n",
              "\t<tr><td>50</td><td>0</td><td>2</td><td>120</td><td>219</td><td>0</td><td>1</td><td>158</td><td>0</td><td>1.6</td><td>1</td><td>0</td><td>2</td><td>1</td></tr>\n",
              "\t<tr><td>58</td><td>0</td><td>2</td><td>120</td><td>340</td><td>0</td><td>1</td><td>172</td><td>0</td><td>0.0</td><td>2</td><td>0</td><td>2</td><td>1</td></tr>\n",
              "\t<tr><td>66</td><td>0</td><td>3</td><td>150</td><td>226</td><td>0</td><td>1</td><td>114</td><td>0</td><td>2.6</td><td>0</td><td>0</td><td>2</td><td>1</td></tr>\n",
              "\t<tr><td>43</td><td>1</td><td>0</td><td>150</td><td>247</td><td>0</td><td>1</td><td>171</td><td>0</td><td>1.5</td><td>2</td><td>0</td><td>2</td><td>1</td></tr>\n",
              "\t<tr><td>69</td><td>0</td><td>3</td><td>140</td><td>239</td><td>0</td><td>1</td><td>151</td><td>0</td><td>1.8</td><td>2</td><td>2</td><td>2</td><td>1</td></tr>\n",
              "\t<tr><td>59</td><td>1</td><td>0</td><td>135</td><td>234</td><td>0</td><td>1</td><td>161</td><td>0</td><td>0.5</td><td>1</td><td>0</td><td>3</td><td>1</td></tr>\n",
              "\t<tr><td>44</td><td>1</td><td>2</td><td>130</td><td>233</td><td>0</td><td>1</td><td>179</td><td>1</td><td>0.4</td><td>2</td><td>0</td><td>2</td><td>1</td></tr>\n",
              "\t<tr><td>42</td><td>1</td><td>0</td><td>140</td><td>226</td><td>0</td><td>1</td><td>178</td><td>0</td><td>0.0</td><td>2</td><td>0</td><td>2</td><td>1</td></tr>\n",
              "\t<tr><td>61</td><td>1</td><td>2</td><td>150</td><td>243</td><td>1</td><td>1</td><td>137</td><td>1</td><td>1.0</td><td>1</td><td>0</td><td>2</td><td>1</td></tr>\n",
              "\t<tr><td>40</td><td>1</td><td>3</td><td>140</td><td>199</td><td>0</td><td>1</td><td>178</td><td>1</td><td>1.4</td><td>2</td><td>0</td><td>3</td><td>1</td></tr>\n",
              "\t<tr><td>71</td><td>0</td><td>1</td><td>160</td><td>302</td><td>0</td><td>1</td><td>162</td><td>0</td><td>0.4</td><td>2</td><td>2</td><td>2</td><td>1</td></tr>\n",
              "\t<tr><td>59</td><td>1</td><td>2</td><td>150</td><td>212</td><td>1</td><td>1</td><td>157</td><td>0</td><td>1.6</td><td>2</td><td>0</td><td>2</td><td>1</td></tr>\n",
              "\t<tr><td>51</td><td>1</td><td>2</td><td>110</td><td>175</td><td>0</td><td>1</td><td>123</td><td>0</td><td>0.6</td><td>2</td><td>0</td><td>2</td><td>1</td></tr>\n",
              "\t<tr><td>65</td><td>0</td><td>2</td><td>140</td><td>417</td><td>1</td><td>0</td><td>157</td><td>0</td><td>0.8</td><td>2</td><td>1</td><td>2</td><td>1</td></tr>\n",
              "\t<tr><td>53</td><td>1</td><td>2</td><td>130</td><td>197</td><td>1</td><td>0</td><td>152</td><td>0</td><td>1.2</td><td>0</td><td>0</td><td>2</td><td>1</td></tr>\n",
              "\t<tr><td>⋮</td><td>⋮</td><td>⋮</td><td>⋮</td><td>⋮</td><td>⋮</td><td>⋮</td><td>⋮</td><td>⋮</td><td>⋮</td><td>⋮</td><td>⋮</td><td>⋮</td><td>⋮</td></tr>\n",
              "\t<tr><td>58</td><td>1</td><td>0</td><td>100</td><td>234</td><td>0</td><td>1</td><td>156</td><td>0</td><td>0.1</td><td>2</td><td>1</td><td>3</td><td>0</td></tr>\n",
              "\t<tr><td>47</td><td>1</td><td>0</td><td>110</td><td>275</td><td>0</td><td>0</td><td>118</td><td>1</td><td>1.0</td><td>1</td><td>1</td><td>2</td><td>0</td></tr>\n",
              "\t<tr><td>52</td><td>1</td><td>0</td><td>125</td><td>212</td><td>0</td><td>1</td><td>168</td><td>0</td><td>1.0</td><td>2</td><td>2</td><td>3</td><td>0</td></tr>\n",
              "\t<tr><td>58</td><td>1</td><td>0</td><td>146</td><td>218</td><td>0</td><td>1</td><td>105</td><td>0</td><td>2.0</td><td>1</td><td>1</td><td>3</td><td>0</td></tr>\n",
              "\t<tr><td>57</td><td>1</td><td>1</td><td>124</td><td>261</td><td>0</td><td>1</td><td>141</td><td>0</td><td>0.3</td><td>2</td><td>0</td><td>3</td><td>0</td></tr>\n",
              "\t<tr><td>58</td><td>0</td><td>1</td><td>136</td><td>319</td><td>1</td><td>0</td><td>152</td><td>0</td><td>0.0</td><td>2</td><td>2</td><td>2</td><td>0</td></tr>\n",
              "\t<tr><td>61</td><td>1</td><td>0</td><td>138</td><td>166</td><td>0</td><td>0</td><td>125</td><td>1</td><td>3.6</td><td>1</td><td>1</td><td>2</td><td>0</td></tr>\n",
              "\t<tr><td>42</td><td>1</td><td>0</td><td>136</td><td>315</td><td>0</td><td>1</td><td>125</td><td>1</td><td>1.8</td><td>1</td><td>0</td><td>1</td><td>0</td></tr>\n",
              "\t<tr><td>52</td><td>1</td><td>0</td><td>128</td><td>204</td><td>1</td><td>1</td><td>156</td><td>1</td><td>1.0</td><td>1</td><td>0</td><td>0</td><td>0</td></tr>\n",
              "\t<tr><td>59</td><td>1</td><td>2</td><td>126</td><td>218</td><td>1</td><td>1</td><td>134</td><td>0</td><td>2.2</td><td>1</td><td>1</td><td>1</td><td>0</td></tr>\n",
              "\t<tr><td>40</td><td>1</td><td>0</td><td>152</td><td>223</td><td>0</td><td>1</td><td>181</td><td>0</td><td>0.0</td><td>2</td><td>0</td><td>3</td><td>0</td></tr>\n",
              "\t<tr><td>61</td><td>1</td><td>0</td><td>140</td><td>207</td><td>0</td><td>0</td><td>138</td><td>1</td><td>1.9</td><td>2</td><td>1</td><td>3</td><td>0</td></tr>\n",
              "\t<tr><td>46</td><td>1</td><td>0</td><td>140</td><td>311</td><td>0</td><td>1</td><td>120</td><td>1</td><td>1.8</td><td>1</td><td>2</td><td>3</td><td>0</td></tr>\n",
              "\t<tr><td>59</td><td>1</td><td>3</td><td>134</td><td>204</td><td>0</td><td>1</td><td>162</td><td>0</td><td>0.8</td><td>2</td><td>2</td><td>2</td><td>0</td></tr>\n",
              "\t<tr><td>57</td><td>1</td><td>1</td><td>154</td><td>232</td><td>0</td><td>0</td><td>164</td><td>0</td><td>0.0</td><td>2</td><td>1</td><td>2</td><td>0</td></tr>\n",
              "\t<tr><td>57</td><td>1</td><td>0</td><td>110</td><td>335</td><td>0</td><td>1</td><td>143</td><td>1</td><td>3.0</td><td>1</td><td>1</td><td>3</td><td>0</td></tr>\n",
              "\t<tr><td>55</td><td>0</td><td>0</td><td>128</td><td>205</td><td>0</td><td>2</td><td>130</td><td>1</td><td>2.0</td><td>1</td><td>1</td><td>3</td><td>0</td></tr>\n",
              "\t<tr><td>61</td><td>1</td><td>0</td><td>148</td><td>203</td><td>0</td><td>1</td><td>161</td><td>0</td><td>0.0</td><td>2</td><td>1</td><td>3</td><td>0</td></tr>\n",
              "\t<tr><td>58</td><td>1</td><td>0</td><td>114</td><td>318</td><td>0</td><td>2</td><td>140</td><td>0</td><td>4.4</td><td>0</td><td>3</td><td>1</td><td>0</td></tr>\n",
              "\t<tr><td>58</td><td>0</td><td>0</td><td>170</td><td>225</td><td>1</td><td>0</td><td>146</td><td>1</td><td>2.8</td><td>1</td><td>2</td><td>1</td><td>0</td></tr>\n",
              "\t<tr><td>67</td><td>1</td><td>2</td><td>152</td><td>212</td><td>0</td><td>0</td><td>150</td><td>0</td><td>0.8</td><td>1</td><td>0</td><td>3</td><td>0</td></tr>\n",
              "\t<tr><td>44</td><td>1</td><td>0</td><td>120</td><td>169</td><td>0</td><td>1</td><td>144</td><td>1</td><td>2.8</td><td>0</td><td>0</td><td>1</td><td>0</td></tr>\n",
              "\t<tr><td>63</td><td>1</td><td>0</td><td>140</td><td>187</td><td>0</td><td>0</td><td>144</td><td>1</td><td>4.0</td><td>2</td><td>2</td><td>3</td><td>0</td></tr>\n",
              "\t<tr><td>63</td><td>0</td><td>0</td><td>124</td><td>197</td><td>0</td><td>1</td><td>136</td><td>1</td><td>0.0</td><td>1</td><td>0</td><td>2</td><td>0</td></tr>\n",
              "\t<tr><td>59</td><td>1</td><td>0</td><td>164</td><td>176</td><td>1</td><td>0</td><td> 90</td><td>0</td><td>1.0</td><td>1</td><td>2</td><td>1</td><td>0</td></tr>\n",
              "\t<tr><td>57</td><td>0</td><td>0</td><td>140</td><td>241</td><td>0</td><td>1</td><td>123</td><td>1</td><td>0.2</td><td>1</td><td>0</td><td>3</td><td>0</td></tr>\n",
              "\t<tr><td>45</td><td>1</td><td>3</td><td>110</td><td>264</td><td>0</td><td>1</td><td>132</td><td>0</td><td>1.2</td><td>1</td><td>0</td><td>3</td><td>0</td></tr>\n",
              "\t<tr><td>68</td><td>1</td><td>0</td><td>144</td><td>193</td><td>1</td><td>1</td><td>141</td><td>0</td><td>3.4</td><td>1</td><td>2</td><td>3</td><td>0</td></tr>\n",
              "\t<tr><td>57</td><td>1</td><td>0</td><td>130</td><td>131</td><td>0</td><td>1</td><td>115</td><td>1</td><td>1.2</td><td>1</td><td>1</td><td>3</td><td>0</td></tr>\n",
              "\t<tr><td>57</td><td>0</td><td>1</td><td>130</td><td>236</td><td>0</td><td>0</td><td>174</td><td>0</td><td>0.0</td><td>1</td><td>1</td><td>2</td><td>0</td></tr>\n",
              "</tbody>\n",
              "</table>\n"
            ]
          },
          "metadata": {
            "tags": []
          }
        }
      ]
    },
    {
      "cell_type": "code",
      "metadata": {
        "colab": {
          "base_uri": "https://localhost:8080/",
          "height": 52
        },
        "id": "f4IiEqh2fOR_",
        "outputId": "f4f94c4d-a24b-47a5-88e0-88f3d6f600e1"
      },
      "source": [
        "a.#print the 5 point statistical summary for any 2 numeric attributes from your data set\n",
        "\n",
        "fivenum(data$age)\n",
        "fivenum(data$cp)"
      ],
      "execution_count": 9,
      "outputs": [
        {
          "output_type": "display_data",
          "data": {
            "text/plain": [
              "[1] 29.0 47.5 55.0 61.0 77.0"
            ],
            "text/latex": "\\begin{enumerate*}\n\\item 29\n\\item 47.5\n\\item 55\n\\item 61\n\\item 77\n\\end{enumerate*}\n",
            "text/markdown": "1. 29\n2. 47.5\n3. 55\n4. 61\n5. 77\n\n\n",
            "text/html": [
              "<style>\n",
              ".list-inline {list-style: none; margin:0; padding: 0}\n",
              ".list-inline>li {display: inline-block}\n",
              ".list-inline>li:not(:last-child)::after {content: \"\\00b7\"; padding: 0 .5ex}\n",
              "</style>\n",
              "<ol class=list-inline><li>29</li><li>47.5</li><li>55</li><li>61</li><li>77</li></ol>\n"
            ]
          },
          "metadata": {
            "tags": []
          }
        },
        {
          "output_type": "display_data",
          "data": {
            "text/plain": [
              "[1] 0 0 1 2 3"
            ],
            "text/latex": "\\begin{enumerate*}\n\\item 0\n\\item 0\n\\item 1\n\\item 2\n\\item 3\n\\end{enumerate*}\n",
            "text/markdown": "1. 0\n2. 0\n3. 1\n4. 2\n5. 3\n\n\n",
            "text/html": [
              "<style>\n",
              ".list-inline {list-style: none; margin:0; padding: 0}\n",
              ".list-inline>li {display: inline-block}\n",
              ".list-inline>li:not(:last-child)::after {content: \"\\00b7\"; padding: 0 .5ex}\n",
              "</style>\n",
              "<ol class=list-inline><li>0</li><li>0</li><li>1</li><li>2</li><li>3</li></ol>\n"
            ]
          },
          "metadata": {
            "tags": []
          }
        }
      ]
    },
    {
      "cell_type": "code",
      "metadata": {
        "colab": {
          "base_uri": "https://localhost:8080/",
          "height": 506
        },
        "id": "iC175Lp_fogo",
        "outputId": "c12b9a2b-ebd6-4158-ea26-51012937ee45"
      },
      "source": [
        "#b.select 2 atributes have closest mean value and draw a scatter plot with proper x and labelsloi ntt and title\n",
        "\n",
        "means <- colMeans(data[sapply(data,is.numeric)])\n",
        "means\n",
        "\n",
        "restecg<-data$restecg\n",
        "output<-data$output\n",
        "plot(data$restecg , data$output , main = \"Scatterplot\" , xlab = \"restecg\" , ylab = \"output\" , las = 1 , xlim = c(0,2) , col = 2 )"
      ],
      "execution_count": 35,
      "outputs": [
        {
          "output_type": "display_data",
          "data": {
            "text/plain": [
              "        age         sex          cp      trtbps        chol         fbs \n",
              " 54.3663366   0.6831683   0.9669967 131.6237624 246.2640264   0.1485149 \n",
              "    restecg    thalachh        exng     oldpeak         slp         caa \n",
              "  0.5280528 149.6468647   0.3267327   1.0396040   1.3993399   0.7293729 \n",
              "      thall      output \n",
              "  2.3135314   0.5445545 "
            ],
            "text/latex": "\\begin{description*}\n\\item[age] 54.3663366336634\n\\item[sex] 0.683168316831683\n\\item[cp] 0.966996699669967\n\\item[trtbps] 131.623762376238\n\\item[chol] 246.26402640264\n\\item[fbs] 0.148514851485149\n\\item[restecg] 0.528052805280528\n\\item[thalachh] 149.646864686469\n\\item[exng] 0.326732673267327\n\\item[oldpeak] 1.03960396039604\n\\item[slp] 1.3993399339934\n\\item[caa] 0.729372937293729\n\\item[thall] 2.31353135313531\n\\item[output] 0.544554455445545\n\\end{description*}\n",
            "text/markdown": "age\n:   54.3663366336634sex\n:   0.683168316831683cp\n:   0.966996699669967trtbps\n:   131.623762376238chol\n:   246.26402640264fbs\n:   0.148514851485149restecg\n:   0.528052805280528thalachh\n:   149.646864686469exng\n:   0.326732673267327oldpeak\n:   1.03960396039604slp\n:   1.3993399339934caa\n:   0.729372937293729thall\n:   2.31353135313531output\n:   0.544554455445545\n\n",
            "text/html": [
              "<style>\n",
              ".dl-inline {width: auto; margin:0; padding: 0}\n",
              ".dl-inline>dt, .dl-inline>dd {float: none; width: auto; display: inline-block}\n",
              ".dl-inline>dt::after {content: \":\\0020\"; padding-right: .5ex}\n",
              ".dl-inline>dt:not(:first-of-type) {padding-left: .5ex}\n",
              "</style><dl class=dl-inline><dt>age</dt><dd>54.3663366336634</dd><dt>sex</dt><dd>0.683168316831683</dd><dt>cp</dt><dd>0.966996699669967</dd><dt>trtbps</dt><dd>131.623762376238</dd><dt>chol</dt><dd>246.26402640264</dd><dt>fbs</dt><dd>0.148514851485149</dd><dt>restecg</dt><dd>0.528052805280528</dd><dt>thalachh</dt><dd>149.646864686469</dd><dt>exng</dt><dd>0.326732673267327</dd><dt>oldpeak</dt><dd>1.03960396039604</dd><dt>slp</dt><dd>1.3993399339934</dd><dt>caa</dt><dd>0.729372937293729</dd><dt>thall</dt><dd>2.31353135313531</dd><dt>output</dt><dd>0.544554455445545</dd></dl>\n"
            ]
          },
          "metadata": {
            "tags": []
          }
        },
        {
          "output_type": "display_data",
          "data": {
            "image/png": "[encoded data removed]",
            "text/plain": [
              "Plot with title “Scatterplot”"
            ]
          },
          "metadata": {
            "tags": [],
            "image/png": {
              "width": 420,
              "height": 420
            }
          }
        }
      ]
    },
    {
      "cell_type": "code",
      "metadata": {
        "colab": {
          "base_uri": "https://localhost:8080/",
          "height": 69
        },
        "id": "MgJpdM5okvBz",
        "outputId": "8d396f24-12c3-46a2-e40b-14053fbb685b"
      },
      "source": [
        "c.# Find coefficient of correlation using some R library function between above 2 attributes\n",
        "\n",
        "\n",
        "cor(data$age,data$sex, method='pearson')\n",
        "cor(data$age,data$sex, method='kendall')\n",
        "cor(data$age,data$sex, method='spearman')"
      ],
      "execution_count": 14,
      "outputs": [
        {
          "output_type": "display_data",
          "data": {
            "text/plain": [
              "[1] -0.0984466"
            ],
            "text/latex": "-0.0984466024747939",
            "text/markdown": "-0.0984466024747939",
            "text/html": [
              "-0.0984466024747939"
            ]
          },
          "metadata": {
            "tags": []
          }
        },
        {
          "output_type": "display_data",
          "data": {
            "text/plain": [
              "[1] -0.08227219"
            ],
            "text/latex": "-0.0822721921756819",
            "text/markdown": "-0.0822721921756819",
            "text/html": [
              "-0.0822721921756819"
            ]
          },
          "metadata": {
            "tags": []
          }
        },
        {
          "output_type": "display_data",
          "data": {
            "text/plain": [
              "[1] -0.09913088"
            ],
            "text/latex": "-0.0991308837980815",
            "text/markdown": "-0.0991308837980815",
            "text/html": [
              "-0.0991308837980815"
            ]
          },
          "metadata": {
            "tags": []
          }
        }
      ]
    },
    {
      "cell_type": "code",
      "metadata": {
        "colab": {
          "base_uri": "https://localhost:8080/",
          "height": 437
        },
        "id": "JQ2Wcqljlk7W",
        "outputId": "54cf8c51-477f-4b84-a84f-3e6451a89165"
      },
      "source": [
        "#d.Draw a box plot for each of the two attributes selected above in a single plot\n",
        "\n",
        "boxplot(age~output,data=data, main=\"Box Plot\",\n",
        "   xlab=\"age\", ylab=\"output\")\n",
        "   "
      ],
      "execution_count": 33,
      "outputs": [
        {
          "output_type": "display_data",
          "data": {
            "image/png": "[encoded data removed]",
            "text/plain": [
              "Plot with title “Box Plot”"
            ]
          },
          "metadata": {
            "tags": [],
            "image/png": {
              "width": 420,
              "height": 420
            }
          }
        }
      ]
    },
    {
      "cell_type": "code",
      "metadata": {
        "colab": {
          "base_uri": "https://localhost:8080/",
          "height": 437
        },
        "id": "Woo_YP0zpTnv",
        "outputId": "bd9bb718-a927-4412-a138-e9cd0ca7d795"
      },
      "source": [
        "#e. Write a R function to plot histogram of some specific input attribute for any data set provided\n",
        "hist(data$age,main='age')"
      ],
      "execution_count": 30,
      "outputs": [
        {
          "output_type": "display_data",
          "data": {
            "image/png": "[encoded data removed]",
            "text/plain": [
              "Plot with title “age”"
            ]
          },
          "metadata": {
            "tags": [],
            "image/png": {
              "width": 420,
              "height": 420
            }
          }
        }
      ]
    },
    {
      "cell_type": "code",
      "metadata": {
        "id": "zdJ6HtZUqSU2"
      },
      "source": [
        ""
      ],
      "execution_count": null,
      "outputs": []
    }
  ]
}